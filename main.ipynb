{
 "cells": [
  {
   "cell_type": "code",
   "execution_count": null,
   "metadata": {},
   "outputs": [],
   "source": [
    "import numpy as np\n",
    "import pandas as pd\n",
    "\n",
    "# import the input from txt file\n",
    "list_of_lines = []\n",
    "with open(\"input.txt\") as fp:\n",
    "    for line in fp:\n",
    "        list_of_lines.append(line.strip())\n",
    "print(list_of_lines)\n",
    "print(len(list_of_lines))\n",
    "lol = list_of_lines"
   ]
  }
 ],
 "metadata": {
  "kernelspec": {
   "display_name": "venv",
   "language": "python",
   "name": "python3"
  },
  "language_info": {
   "name": "python",
   "version": "3.12.0"
  }
 },
 "nbformat": 4,
 "nbformat_minor": 2
}

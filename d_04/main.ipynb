{
 "cells": [
  {
   "cell_type": "code",
   "execution_count": 41,
   "metadata": {},
   "outputs": [
    {
     "name": "stdout",
     "output_type": "stream",
     "text": [
      "['Card 1: 41 48 83 86 17 | 83 86 6 31 17 9 48 53', 'Card 2: 13 32 20 16 61 | 61 30 68 82 17 32 24 19', 'Card 3: 1 21 53 59 44 | 69 82 63 72 16 21 14 1', 'Card 4: 41 92 73 84 69 | 59 84 76 51 58 5 54 83', 'Card 5: 87 83 26 28 32 | 88 30 70 12 93 22 82 36', 'Card 6: 31 18 13 56 72 | 74 77 10 23 35 67 36 11']\n",
      "6\n"
     ]
    }
   ],
   "source": [
    "import numpy as np\n",
    "import pandas as pd\n",
    "from functools import cache\n",
    "\n",
    "# import the input from txt file\n",
    "list_of_lines = []\n",
    "with open(\"input.txt\") as fp:\n",
    "    for line in fp:\n",
    "        list_of_lines.append(line.strip().replace(\"  \",\" \"))\n",
    "print(list_of_lines)\n",
    "print(len(list_of_lines))\n",
    "lol = list_of_lines"
   ]
  },
  {
   "cell_type": "code",
   "execution_count": 42,
   "metadata": {},
   "outputs": [
    {
     "data": {
      "text/plain": [
       "6"
      ]
     },
     "execution_count": 42,
     "metadata": {},
     "output_type": "execute_result"
    }
   ],
   "source": [
    "len(lol)"
   ]
  },
  {
   "cell_type": "code",
   "execution_count": 43,
   "metadata": {},
   "outputs": [
    {
     "data": {
      "text/plain": [
       "[[['41', '48', '83', '86', '17'],\n",
       "  ['83', '86', '6', '31', '17', '9', '48', '53']],\n",
       " [['13', '32', '20', '16', '61'],\n",
       "  ['61', '30', '68', '82', '17', '32', '24', '19']],\n",
       " [['1', '21', '53', '59', '44'],\n",
       "  ['69', '82', '63', '72', '16', '21', '14', '1']],\n",
       " [['41', '92', '73', '84', '69'],\n",
       "  ['59', '84', '76', '51', '58', '5', '54', '83']],\n",
       " [['87', '83', '26', '28', '32'],\n",
       "  ['88', '30', '70', '12', '93', '22', '82', '36']],\n",
       " [['31', '18', '13', '56', '72'],\n",
       "  ['74', '77', '10', '23', '35', '67', '36', '11']]]"
      ]
     },
     "execution_count": 43,
     "metadata": {},
     "output_type": "execute_result"
    }
   ],
   "source": [
    "cards = [[s.split(\" | \")[0].split(\" \")[2:], s.split(\" | \")[1].split(\" \")] for s in lol]\n",
    "cards"
   ]
  },
  {
   "cell_type": "code",
   "execution_count": 44,
   "metadata": {},
   "outputs": [
    {
     "name": "stdout",
     "output_type": "stream",
     "text": [
      "['41', '48', '83', '86', '17']\n",
      "['83', '86', '6', '31', '17', '9', '48', '53']\n",
      "['17' '48' '83' '86']\n",
      "['13', '32', '20', '16', '61']\n",
      "['61', '30', '68', '82', '17', '32', '24', '19']\n",
      "['32' '61']\n",
      "['1', '21', '53', '59', '44']\n",
      "['69', '82', '63', '72', '16', '21', '14', '1']\n",
      "['1' '21']\n",
      "['41', '92', '73', '84', '69']\n",
      "['59', '84', '76', '51', '58', '5', '54', '83']\n",
      "['84']\n",
      "['87', '83', '26', '28', '32']\n",
      "['88', '30', '70', '12', '93', '22', '82', '36']\n",
      "[]\n",
      "['31', '18', '13', '56', '72']\n",
      "['74', '77', '10', '23', '35', '67', '36', '11']\n",
      "[]\n",
      "13\n"
     ]
    }
   ],
   "source": [
    "points_sum = 0\n",
    "for wining_nums, my_nums in cards:\n",
    "    print(wining_nums)\n",
    "    print(my_nums)\n",
    "    print(np.intersect1d(wining_nums, my_nums))\n",
    "    num_intersections = len(np.intersect1d(wining_nums, my_nums))\n",
    "    points_sum +=  np.power(2, num_intersections-1) if num_intersections else 0\n",
    "print(points_sum)"
   ]
  },
  {
   "cell_type": "markdown",
   "metadata": {},
   "source": [
    "# section 2"
   ]
  },
  {
   "cell_type": "code",
   "execution_count": 62,
   "metadata": {},
   "outputs": [
    {
     "data": {
      "text/plain": [
       "[4, 2, 2, 1, 0, 0]"
      ]
     },
     "execution_count": 62,
     "metadata": {},
     "output_type": "execute_result"
    }
   ],
   "source": [
    "intersections = [0]*len(cards)\n",
    "for i, (wining_nums, my_nums) in enumerate(cards):\n",
    "    num_intersections = len(np.intersect1d(wining_nums, my_nums))\n",
    "    intersections[i] = num_intersections\n",
    "intersections"
   ]
  },
  {
   "cell_type": "code",
   "execution_count": 83,
   "metadata": {},
   "outputs": [],
   "source": [
    "@cache\n",
    "def process_card(i:int):\n",
    "    # get intersections\n",
    "    num_intersections = intersections[i]\n",
    "    # process other cards\n",
    "    if i > max_index:\n",
    "        return 0\n",
    "    this_sum = 1\n",
    "    for j in range(num_intersections):\n",
    "        this_sum += process_card(i+j+1)\n",
    "    return this_sum\n",
    "    "
   ]
  },
  {
   "cell_type": "code",
   "execution_count": 82,
   "metadata": {},
   "outputs": [
    {
     "data": {
      "text/plain": [
       "33"
      ]
     },
     "execution_count": 82,
     "metadata": {},
     "output_type": "execute_result"
    }
   ],
   "source": [
    "# calc total sum\n",
    "total_sum = 0\n",
    "max_index = len(intersections)\n",
    "for i in range(len(intersections)):\n",
    "    num_intersections = intersections[i]\n",
    "    for j in range(num_intersections):\n",
    "        total_sum += 1\n",
    "        total_sum += process_card(i+j+1)\n",
    "total_sum"
   ]
  }
 ],
 "metadata": {
  "kernelspec": {
   "display_name": "venv",
   "language": "python",
   "name": "python3"
  },
  "language_info": {
   "codemirror_mode": {
    "name": "ipython",
    "version": 3
   },
   "file_extension": ".py",
   "mimetype": "text/x-python",
   "name": "python",
   "nbconvert_exporter": "python",
   "pygments_lexer": "ipython3",
   "version": "3.12.0"
  }
 },
 "nbformat": 4,
 "nbformat_minor": 2
}

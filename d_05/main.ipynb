{
 "cells": [
  {
   "cell_type": "code",
   "execution_count": 1,
   "metadata": {},
   "outputs": [
    {
     "name": "stdout",
     "output_type": "stream",
     "text": [
      "['seeds: 79 14 55 13', '', 'seed-to-soil map:', '50 98 2', '52 50 48', '', 'soil-to-fertilizer map:', '0 15 37', '37 52 2', '39 0 15', '', 'fertilizer-to-water map:', '49 53 8', '0 11 42', '42 0 7', '57 7 4', '', 'water-to-light map:', '88 18 7', '18 25 70', '', 'light-to-temperature map:', '45 77 23', '81 45 19', '68 64 13', '', 'temperature-to-humidity map:', '0 69 1', '1 0 69', '', 'humidity-to-location map:', '60 56 37', '56 93 4']\n",
      "33\n"
     ]
    }
   ],
   "source": [
    "import numpy as np\n",
    "import pandas as pd\n",
    "\n",
    "# import the input from txt file\n",
    "list_of_lines = []\n",
    "with open(\"input.txt\") as fp:\n",
    "    for line in fp:\n",
    "        list_of_lines.append(line.strip())\n",
    "print(list_of_lines)\n",
    "print(len(list_of_lines))\n",
    "lol = list_of_lines"
   ]
  },
  {
   "cell_type": "code",
   "execution_count": 2,
   "metadata": {},
   "outputs": [
    {
     "data": {
      "text/plain": [
       "['seeds: 79 14 55 13',\n",
       " '',\n",
       " 'seed-to-soil map:',\n",
       " '50 98 2',\n",
       " '52 50 48',\n",
       " '',\n",
       " 'soil-to-fertilizer map:',\n",
       " '0 15 37',\n",
       " '37 52 2',\n",
       " '39 0 15',\n",
       " '',\n",
       " 'fertilizer-to-water map:',\n",
       " '49 53 8',\n",
       " '0 11 42',\n",
       " '42 0 7',\n",
       " '57 7 4',\n",
       " '',\n",
       " 'water-to-light map:',\n",
       " '88 18 7',\n",
       " '18 25 70',\n",
       " '',\n",
       " 'light-to-temperature map:',\n",
       " '45 77 23',\n",
       " '81 45 19',\n",
       " '68 64 13',\n",
       " '',\n",
       " 'temperature-to-humidity map:',\n",
       " '0 69 1',\n",
       " '1 0 69',\n",
       " '',\n",
       " 'humidity-to-location map:',\n",
       " '60 56 37',\n",
       " '56 93 4']"
      ]
     },
     "execution_count": 2,
     "metadata": {},
     "output_type": "execute_result"
    },
    {
     "ename": "",
     "evalue": "",
     "output_type": "error",
     "traceback": [
      "\u001b[1;31mThe Kernel crashed while executing code in the the current cell or a previous cell. Please review the code in the cell(s) to identify a possible cause of the failure. Click <a href='https://aka.ms/vscodeJupyterKernelCrash'>here</a> for more info. View Jupyter <a href='command:jupyter.viewOutput'>log</a> for further details."
     ]
    }
   ],
   "source": [
    "lol"
   ]
  }
 ],
 "metadata": {
  "kernelspec": {
   "display_name": "venv",
   "language": "python",
   "name": "python3"
  },
  "language_info": {
   "codemirror_mode": {
    "name": "ipython",
    "version": 3
   },
   "file_extension": ".py",
   "mimetype": "text/x-python",
   "name": "python",
   "nbconvert_exporter": "python",
   "pygments_lexer": "ipython3",
   "version": "3.12.0"
  }
 },
 "nbformat": 4,
 "nbformat_minor": 2
}

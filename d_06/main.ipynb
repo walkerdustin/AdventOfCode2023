{
 "cells": [
  {
   "cell_type": "code",
   "execution_count": 24,
   "metadata": {},
   "outputs": [
    {
     "name": "stdout",
     "output_type": "stream",
     "text": [
      "['Time:        40     81     77     72', 'Distance:   219   1012   1365   1089']\n",
      "2\n"
     ]
    }
   ],
   "source": [
    "import numpy as np\n",
    "import pandas as pd\n",
    "\n",
    "# import the input from txt file\n",
    "list_of_lines = []\n",
    "with open(\"input.txt\") as fp:\n",
    "    for line in fp:\n",
    "        list_of_lines.append(line.strip())\n",
    "print(list_of_lines)\n",
    "print(len(list_of_lines))\n",
    "lol = list_of_lines"
   ]
  },
  {
   "cell_type": "markdown",
   "metadata": {},
   "source": [
    "Your toy boat has a starting speed of zero millimeters per millisecond. For each whole millisecond you spend at the beginning of the race holding down the button, the boat's speed increases by one millimeter per millisecond.\n",
    "\n",
    "To see how much margin of error you have, determine the number of ways you can beat the record in each race; in this example, if you multiply these values together, you get 288 (4 * 8 * 9).\n",
    "Determine the number of ways you could beat the record in each race. What do you get if you multiply these numbers together?\n",
    "\n",
    "formula for calculating distance\n",
    "T: Total time of race\n",
    "D: Total distance achieved\n",
    "t: time spent traveling\n",
    "tc: time spent charging  \n",
    "\n",
    "s= v*t  \n",
    "d = (tc)*t  \n",
    "d = (tc)*(T-tc)  \n",
    "d = tc*T - tc^2  "
   ]
  },
  {
   "cell_type": "code",
   "execution_count": 25,
   "metadata": {},
   "outputs": [
    {
     "data": {
      "text/plain": [
       "['Time:        40     81     77     72',\n",
       " 'Distance:   219   1012   1365   1089']"
      ]
     },
     "execution_count": 25,
     "metadata": {},
     "output_type": "execute_result"
    }
   ],
   "source": [
    "lol"
   ]
  },
  {
   "cell_type": "code",
   "execution_count": 26,
   "metadata": {},
   "outputs": [
    {
     "name": "stdout",
     "output_type": "stream",
     "text": [
      "[40, 81, 77, 72]\n",
      "[219, 1012, 1365, 1089]\n"
     ]
    }
   ],
   "source": [
    "times = lol[0][9:].strip().replace(\"  \", \" \").replace(\"  \", \" \").replace(\"  \", \" \").replace(\"  \", \" \").split(\" \")\n",
    "distances = lol[1][9:].strip().replace(\"  \", \" \").replace(\"  \", \" \").replace(\"  \", \" \").replace(\"  \", \" \").split(\" \")\n",
    "# change to ints\n",
    "times = list(map(int, times))\n",
    "distances = list(map(int, distances))\n",
    "print(times)\n",
    "print(distances)"
   ]
  },
  {
   "cell_type": "code",
   "execution_count": 28,
   "metadata": {},
   "outputs": [
    {
     "name": "stdout",
     "output_type": "stream",
     "text": [
      "27\n",
      "50\n",
      "22\n",
      "29\n",
      "861300\n"
     ]
    }
   ],
   "source": [
    "solution = 1\n",
    "for i in range(len(times)):\n",
    "    # calc Distance traveled\n",
    "    number_of_wins = 0\n",
    "    for j in range(times[i]+1):\n",
    "        # print(\"charging for \" + str(j) + \" seconds\")\n",
    "        # print(f\"to speed of {j} m/s\")\n",
    "        D = j*(times[i]-j)\n",
    "        number_of_wins += int(bool(D>distances[i]))\n",
    "        # print(f\"you traveled {D} m\")\n",
    "    print(number_of_wins)\n",
    "    solution *= number_of_wins\n",
    "print(solution)\n",
    "        \n"
   ]
  },
  {
   "cell_type": "markdown",
   "metadata": {},
   "source": [
    "## Part two"
   ]
  },
  {
   "cell_type": "code",
   "execution_count": 30,
   "metadata": {},
   "outputs": [
    {
     "name": "stdout",
     "output_type": "stream",
     "text": [
      "40817772\n",
      "219101213651089\n"
     ]
    }
   ],
   "source": [
    "time = int(lol[0][9:].strip().replace(\"    \", \"\").replace(\"   \", \"\").replace(\"  \", \"\").replace(\" \", \"\"))\n",
    "distance = int(lol[1][9:].strip().replace(\"    \", \"\").replace(\"   \", \"\").replace(\"  \", \"\").replace(\" \", \"\"))\n",
    "# change to ints\n",
    "# times = list(map(int, times))\n",
    "# distances = list(map(int, distances))\n",
    "print(time)\n",
    "print(distance)"
   ]
  },
  {
   "cell_type": "code",
   "execution_count": 33,
   "metadata": {},
   "outputs": [
    {
     "name": "stdout",
     "output_type": "stream",
     "text": [
      "28101347\n"
     ]
    }
   ],
   "source": [
    "number_of_wins = 0\n",
    "for j in range(time+1):\n",
    "    # print(\"charging for \" + str(j) + \" seconds\")\n",
    "    # print(f\"to speed of {j} m/s\")\n",
    "    D = j*(time-j)\n",
    "    number_of_wins += int(bool(D>distance))\n",
    "    # print(f\"you traveled {D} m\")\n",
    "print(number_of_wins)\n"
   ]
  },
  {
   "cell_type": "code",
   "execution_count": 34,
   "metadata": {},
   "outputs": [
    {
     "data": {
      "text/plain": [
       "28101347"
      ]
     },
     "execution_count": 34,
     "metadata": {},
     "output_type": "execute_result"
    }
   ],
   "source": [
    "28101376 - 29"
   ]
  }
 ],
 "metadata": {
  "kernelspec": {
   "display_name": "venv",
   "language": "python",
   "name": "python3"
  },
  "language_info": {
   "codemirror_mode": {
    "name": "ipython",
    "version": 3
   },
   "file_extension": ".py",
   "mimetype": "text/x-python",
   "name": "python",
   "nbconvert_exporter": "python",
   "pygments_lexer": "ipython3",
   "version": "3.12.0"
  }
 },
 "nbformat": 4,
 "nbformat_minor": 2
}
